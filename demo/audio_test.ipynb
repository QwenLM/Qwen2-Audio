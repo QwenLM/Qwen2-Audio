{
 "cells": [
  {
   "cell_type": "code",
   "execution_count": 1,
   "id": "5d3ee67d-13c0-4ad1-9fd4-304248ccdfc2",
   "metadata": {},
   "outputs": [],
   "source": [
    "from io import BytesIO\n",
    "from urllib.request import urlopen\n",
    "import librosa\n",
    "from transformers import Qwen2AudioForConditionalGeneration, Qwen2AudioProcessor\n",
    "import torch"
   ]
  },
  {
   "cell_type": "code",
   "execution_count": null,
   "id": "a9037d56-5684-408a-8fb6-353f63e0f0aa",
   "metadata": {},
   "outputs": [],
   "source": []
  },
  {
   "cell_type": "code",
   "execution_count": 2,
   "id": "ca971f54-2bc9-4b2a-96ca-76514c7bf862",
   "metadata": {},
   "outputs": [
    {
     "name": "stderr",
     "output_type": "stream",
     "text": [
      "The model weights are not tied. Please use the `tie_weights` method before using the `infer_auto_device` function.\n"
     ]
    },
    {
     "data": {
      "application/vnd.jupyter.widget-view+json": {
       "model_id": "e2d6ad1e70e045c1982f959899ef8040",
       "version_major": 2,
       "version_minor": 0
      },
      "text/plain": [
       "Loading checkpoint shards:   0%|          | 0/5 [00:00<?, ?it/s]"
      ]
     },
     "metadata": {},
     "output_type": "display_data"
    }
   ],
   "source": [
    "\n",
    "processor = Qwen2AudioProcessor.from_pretrained(\"/disk0/aitogether/ai-english/yi_model/model/qwen/qwen2-audio-7b-instruct\")\n",
    "model = Qwen2AudioForConditionalGeneration.from_pretrained(\"/disk0/aitogether/ai-english/yi_model/model/qwen/qwen2-audio-7b-instruct\",torch_dtype = \"auto\", device_map=\"auto\").eval()\n"
   ]
  },
  {
   "cell_type": "code",
   "execution_count": 3,
   "id": "7bb4abbd-cee7-4684-bce6-58cc15c2f39e",
   "metadata": {},
   "outputs": [],
   "source": [
    "def analyse_audio(query,audio):\n",
    "    conversation = [\n",
    "        {'role': 'system', 'content': 'You are a helpful assistant.'}, \n",
    "        {\"role\": \"user\", \"content\": [\n",
    "            {\"type\": \"audio\", \"audio\": \"/disk0/aitogether/xishaojian/audio_lab/audio_resources/\"+audio},\n",
    "            {\"type\":\"text\",\"text\":query}\n",
    "        ]},\n",
    "    ]\n",
    "    text = processor.apply_chat_template(conversation,chat_template = processor.default_chat_template, add_generation_prompt=True, tokenize=False)\n",
    "    audios = []\n",
    "    for message in conversation:\n",
    "        if isinstance(message[\"content\"], list):\n",
    "            for ele in message[\"content\"]:\n",
    "                if ele[\"type\"] == \"audio\":\n",
    "                    if \"audio_url\" in ele:\n",
    "                        audios.append(\n",
    "                            librosa.load(ele['audio_url'], sr=processor.feature_extractor.sampling_rate)[0]\n",
    "                        )\n",
    "                    elif \"audio\" in ele:\n",
    "                        audios.append(\n",
    "                            librosa.load(ele['audio'], sr=processor.feature_extractor.sampling_rate)[0]\n",
    "                        )\n",
    "    inputs = processor(text=text, audios=audios, return_tensors=\"pt\", padding=True)\n",
    "    inputs[\"input_ids\"] = inputs.input_ids.to(\"cuda\")\n",
    "    generate_ids = model.generate(**inputs, max_length=4096)\n",
    "    generate_ids = generate_ids[:, inputs.input_ids.size(1):]\n",
    "    response = processor.batch_decode(generate_ids, skip_special_tokens=True, clean_up_tokenization_spaces=False)[0]\n",
    "    print(response)"
   ]
  },
  {
   "cell_type": "code",
   "execution_count": 6,
   "id": "70b23523-f824-447d-9f40-f6488f102da3",
   "metadata": {},
   "outputs": [
    {
     "name": "stderr",
     "output_type": "stream",
     "text": [
      "It is strongly recommended to pass the `sampling_rate` argument to this function. Failing to do so can result in silent errors that might be hard to debug.\n"
     ]
    },
    {
     "name": "stdout",
     "output_type": "stream",
     "text": [
      "第一位说话者提到中国目前垃圾填埋和焚烧的问题，以及垃圾分类没有解决的挑战。第二位说话者是垃圾填埋组的代表，他/她强调垃圾填埋会导致周围土地受到污染。\n"
     ]
    }
   ],
   "source": [
    "analyse_audio(\"里面有多位说话者，请提出每个说话者对应的内容\",\"PPT+Teacher+Student.MP3\")"
   ]
  },
  {
   "cell_type": "code",
   "execution_count": null,
   "id": "fec55411-2b5a-46d5-be94-4cf5dbf265a9",
   "metadata": {},
   "outputs": [],
   "source": []
  }
 ],
 "metadata": {
  "kernelspec": {
   "display_name": "Python 3 (ipykernel)",
   "language": "python",
   "name": "python3"
  },
  "language_info": {
   "codemirror_mode": {
    "name": "ipython",
    "version": 3
   },
   "file_extension": ".py",
   "mimetype": "text/x-python",
   "name": "python",
   "nbconvert_exporter": "python",
   "pygments_lexer": "ipython3",
   "version": "3.10.12"
  }
 },
 "nbformat": 4,
 "nbformat_minor": 5
}
